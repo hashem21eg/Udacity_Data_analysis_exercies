{
 "cells": [
  {
   "cell_type": "code",
   "execution_count": 3,
   "metadata": {},
   "outputs": [
    {
     "name": "stdout",
     "output_type": "stream",
     "text": [
      "expected result: 2, actual result: 2\n",
      "expected result: 2.5, actual result: 3\n",
      "expected result: 65, actual result: 65\n"
     ]
    }
   ],
   "source": [
    "def median(numbers):\n",
    "    numbers.sort() #The sort method sorts a list directly, rather than returning a new sorted list\n",
    "    middle_index = int(len(numbers)/2)\n",
    "    return numbers[middle_index]\n",
    "\n",
    "test1 = median([1,2,3])\n",
    "print(\"expected result: 2, actual result: {}\".format(test1))\n",
    "\n",
    "test2 = median([1,2,3,4])\n",
    "print(\"expected result: 2.5, actual result: {}\".format(test2))\n",
    "\n",
    "test3 = median([53, 12, 65, 7, 420, 317, 88])\n",
    "print(\"expected result: 65, actual result: {}\".format(test3))"
   ]
  },
  {
   "cell_type": "code",
   "execution_count": null,
   "metadata": {},
   "outputs": [],
   "source": []
  }
 ],
 "metadata": {
  "kernelspec": {
   "display_name": "Python 3",
   "language": "python",
   "name": "python3"
  }
 },
 "nbformat": 4,
 "nbformat_minor": 2
}
